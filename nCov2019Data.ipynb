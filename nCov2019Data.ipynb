{
 "cells": [
  {
   "cell_type": "code",
   "execution_count": 1,
   "metadata": {},
   "outputs": [],
   "source": [
    "import time, json, requests\n",
    "import pandas as pd"
   ]
  },
  {
   "cell_type": "markdown",
   "metadata": {},
   "source": [
    "# 每日疫情数据"
   ]
  },
  {
   "cell_type": "code",
   "execution_count": 175,
   "metadata": {},
   "outputs": [],
   "source": [
    "#download data\n",
    "def downloadDailyData():\n",
    "    url = 'https://view.inews.qq.com/g2/getOnsInfo?name=disease_h5&callback=&_=%d'%int(time.time()*1000)\n",
    "    data = json.loads(requests.get(url=url).json()['data'])\n",
    "    return data"
   ]
  },
  {
   "cell_type": "code",
   "execution_count": 163,
   "metadata": {},
   "outputs": [],
   "source": [
    "# decode area data to data frame\n",
    "def getAreaDataFrame(response_data):\n",
    "    area_tree = response_data['areaTree']\n",
    "    df_area = pd.DataFrame(columns=['Country','Province','City','AllOrToday','confirm','suspect','dead','heal'])\n",
    "    for country in area_tree:\n",
    "        df_area = df_area.append({'Country':country['name'],\n",
    "                   'Province':'',\n",
    "                   'City':'',               \n",
    "                   'AllOrToday':'All',\n",
    "                   'confirm':country['total']['confirm'],\n",
    "                   'suspect':country['total']['suspect'],\n",
    "                   'dead':country['total']['dead'],\n",
    "                   'heal':country['total']['heal']\n",
    "                  },ignore_index=True)\n",
    "        df_area = df_area.append({'Country':country['name'],\n",
    "                   'Province':'',\n",
    "                   'City':'',               \n",
    "                   'AllOrToday':'Today',\n",
    "                   'confirm':country['today']['confirm'],\n",
    "                   'suspect':country['today']['suspect'],\n",
    "                   'dead':country['today']['dead'],\n",
    "                   'heal':country['today']['heal']\n",
    "                  },ignore_index=True)\n",
    "        if 'children' in country:\n",
    "            country_tree = country['children']\n",
    "            for province in country_tree:\n",
    "                #print('pv:{}'.format(province['name']))\n",
    "                df_area = df_area.append({'Country':country['name'],\n",
    "                   'Province':province['name'],\n",
    "                   'City':'',               \n",
    "                   'AllOrToday':'All',\n",
    "                   'confirm':province['total']['confirm'],\n",
    "                   'suspect':province['total']['suspect'],\n",
    "                   'dead':province['total']['dead'],\n",
    "                   'heal':province['total']['heal']\n",
    "                  },ignore_index=True)\n",
    "                df_area = df_area.append({'Country':country['name'],\n",
    "                   'Province':province['name'],\n",
    "                   'City':'',               \n",
    "                   'AllOrToday':'Today',\n",
    "                   'confirm':province['today']['confirm'],\n",
    "                   'suspect':province['today']['suspect'],\n",
    "                   'dead':province['today']['dead'],\n",
    "                   'heal':province['today']['heal']\n",
    "                  },ignore_index=True)\n",
    "                if 'children' in province:\n",
    "                    province_tree = province['children']\n",
    "                    for city in province_tree:\n",
    "                        df_area = df_area.append({'Country':country['name'],\n",
    "                           'Province':province['name'],\n",
    "                           'City':city['name'],               \n",
    "                           'AllOrToday':'All',\n",
    "                           'confirm':city['total']['confirm'],\n",
    "                           'suspect':city['total']['suspect'],\n",
    "                           'dead':city['total']['dead'],\n",
    "                           'heal':city['total']['heal']\n",
    "                          },ignore_index=True)\n",
    "                        df_area = df_area.append({'Country':country['name'],\n",
    "                           'Province':province['name'],\n",
    "                           'City':city['name'],               \n",
    "                           'AllOrToday':'Today',\n",
    "                           'confirm':city['today']['confirm'],\n",
    "                           'suspect':city['today']['suspect'],\n",
    "                           'dead':city['today']['dead'],\n",
    "                           'heal':city['today']['heal']\n",
    "                          },ignore_index=True)\n",
    "    return df_area"
   ]
  },
  {
   "cell_type": "code",
   "execution_count": 164,
   "metadata": {},
   "outputs": [],
   "source": [
    "def chinaSummary(data):\n",
    "    data['chinaTotal']['AllOrToday'] = 'All'\n",
    "    data['chinaAdd']['AllOrToday'] = 'Today'\n",
    "    china_summary = pd.DataFrame.from_records([data['chinaTotal'],data['chinaAdd']])\n",
    "    return china_summary"
   ]
  },
  {
   "cell_type": "code",
   "execution_count": null,
   "metadata": {},
   "outputs": [],
   "source": []
  },
  {
   "cell_type": "code",
   "execution_count": 165,
   "metadata": {},
   "outputs": [],
   "source": [
    "def getHistory(data):\n",
    "    china_history_sum = pd.DataFrame.from_records(data['chinaDayList'])\n",
    "    china_history_add = pd.DataFrame.from_records(data['chinaDayAddList'])\n",
    "    return china_history_sum, china_history_add"
   ]
  },
  {
   "cell_type": "code",
   "execution_count": 166,
   "metadata": {},
   "outputs": [
    {
     "data": {
      "text/plain": [
       "'2020-02-03 13:54:57'"
      ]
     },
     "execution_count": 166,
     "metadata": {},
     "output_type": "execute_result"
    }
   ],
   "source": [
    "data['lastUpdateTime']"
   ]
  },
  {
   "cell_type": "code",
   "execution_count": 172,
   "metadata": {},
   "outputs": [],
   "source": [
    "def saveAll(data):\n",
    "    last_time = data['lastUpdateTime'].replace(':','-')\n",
    "    area_df = getAreaDataFrame(data)\n",
    "    area_df.to_csv('data/infections/area_{}.csv'.format(last_time),index=False)\n",
    "    summary = chinaSummary(data)\n",
    "    summary.to_csv('data/infections/summary_{}.csv'.format(last_time),index=False)\n",
    "    history_sum,history_add = getHistory(data)\n",
    "    history_sum.to_csv('data/infections/history_sum_{}.csv'.format(last_time),index=False)\n",
    "    history_add.to_csv('data/infections/history_add_{}.csv'.format(last_time),index=False)\n"
   ]
  },
  {
   "cell_type": "code",
   "execution_count": 176,
   "metadata": {},
   "outputs": [],
   "source": [
    "# Run this function daily to save data\n",
    "def updateNow():\n",
    "    data = downloadDailyData()\n",
    "    saveAll(data)"
   ]
  },
  {
   "cell_type": "code",
   "execution_count": 174,
   "metadata": {},
   "outputs": [],
   "source": [
    "updateNow()"
   ]
  },
  {
   "cell_type": "markdown",
   "metadata": {},
   "source": [
    "# 数据查询"
   ]
  },
  {
   "cell_type": "code",
   "execution_count": 122,
   "metadata": {},
   "outputs": [
    {
     "data": {
      "text/html": [
       "<div>\n",
       "<style scoped>\n",
       "    .dataframe tbody tr th:only-of-type {\n",
       "        vertical-align: middle;\n",
       "    }\n",
       "\n",
       "    .dataframe tbody tr th {\n",
       "        vertical-align: top;\n",
       "    }\n",
       "\n",
       "    .dataframe thead th {\n",
       "        text-align: right;\n",
       "    }\n",
       "</style>\n",
       "<table border=\"1\" class=\"dataframe\">\n",
       "  <thead>\n",
       "    <tr style=\"text-align: right;\">\n",
       "      <th></th>\n",
       "      <th>Country</th>\n",
       "      <th>Province</th>\n",
       "      <th>City</th>\n",
       "      <th>AllOrToday</th>\n",
       "      <th>confirm</th>\n",
       "      <th>suspect</th>\n",
       "      <th>dead</th>\n",
       "      <th>heal</th>\n",
       "    </tr>\n",
       "  </thead>\n",
       "  <tbody>\n",
       "    <tr>\n",
       "      <th>462</th>\n",
       "      <td>中国</td>\n",
       "      <td>北京</td>\n",
       "      <td></td>\n",
       "      <td>All</td>\n",
       "      <td>191</td>\n",
       "      <td>0</td>\n",
       "      <td>1</td>\n",
       "      <td>9</td>\n",
       "    </tr>\n",
       "    <tr>\n",
       "      <th>464</th>\n",
       "      <td>中国</td>\n",
       "      <td>北京</td>\n",
       "      <td>海淀</td>\n",
       "      <td>All</td>\n",
       "      <td>41</td>\n",
       "      <td>0</td>\n",
       "      <td>0</td>\n",
       "      <td>0</td>\n",
       "    </tr>\n",
       "    <tr>\n",
       "      <th>466</th>\n",
       "      <td>中国</td>\n",
       "      <td>北京</td>\n",
       "      <td>朝阳</td>\n",
       "      <td>All</td>\n",
       "      <td>35</td>\n",
       "      <td>0</td>\n",
       "      <td>0</td>\n",
       "      <td>0</td>\n",
       "    </tr>\n",
       "    <tr>\n",
       "      <th>468</th>\n",
       "      <td>中国</td>\n",
       "      <td>北京</td>\n",
       "      <td>西城</td>\n",
       "      <td>All</td>\n",
       "      <td>22</td>\n",
       "      <td>0</td>\n",
       "      <td>0</td>\n",
       "      <td>0</td>\n",
       "    </tr>\n",
       "    <tr>\n",
       "      <th>470</th>\n",
       "      <td>中国</td>\n",
       "      <td>北京</td>\n",
       "      <td>大兴</td>\n",
       "      <td>All</td>\n",
       "      <td>22</td>\n",
       "      <td>0</td>\n",
       "      <td>0</td>\n",
       "      <td>2</td>\n",
       "    </tr>\n",
       "    <tr>\n",
       "      <th>472</th>\n",
       "      <td>中国</td>\n",
       "      <td>北京</td>\n",
       "      <td>丰台</td>\n",
       "      <td>All</td>\n",
       "      <td>16</td>\n",
       "      <td>0</td>\n",
       "      <td>0</td>\n",
       "      <td>0</td>\n",
       "    </tr>\n",
       "    <tr>\n",
       "      <th>474</th>\n",
       "      <td>中国</td>\n",
       "      <td>北京</td>\n",
       "      <td>通州</td>\n",
       "      <td>All</td>\n",
       "      <td>13</td>\n",
       "      <td>0</td>\n",
       "      <td>0</td>\n",
       "      <td>0</td>\n",
       "    </tr>\n",
       "    <tr>\n",
       "      <th>476</th>\n",
       "      <td>中国</td>\n",
       "      <td>北京</td>\n",
       "      <td>昌平</td>\n",
       "      <td>All</td>\n",
       "      <td>12</td>\n",
       "      <td>0</td>\n",
       "      <td>0</td>\n",
       "      <td>0</td>\n",
       "    </tr>\n",
       "    <tr>\n",
       "      <th>478</th>\n",
       "      <td>中国</td>\n",
       "      <td>北京</td>\n",
       "      <td>外地来京</td>\n",
       "      <td>All</td>\n",
       "      <td>11</td>\n",
       "      <td>0</td>\n",
       "      <td>0</td>\n",
       "      <td>2</td>\n",
       "    </tr>\n",
       "    <tr>\n",
       "      <th>480</th>\n",
       "      <td>中国</td>\n",
       "      <td>北京</td>\n",
       "      <td>顺义</td>\n",
       "      <td>All</td>\n",
       "      <td>6</td>\n",
       "      <td>0</td>\n",
       "      <td>0</td>\n",
       "      <td>0</td>\n",
       "    </tr>\n",
       "    <tr>\n",
       "      <th>482</th>\n",
       "      <td>中国</td>\n",
       "      <td>北京</td>\n",
       "      <td>石景山</td>\n",
       "      <td>All</td>\n",
       "      <td>5</td>\n",
       "      <td>0</td>\n",
       "      <td>0</td>\n",
       "      <td>0</td>\n",
       "    </tr>\n",
       "    <tr>\n",
       "      <th>484</th>\n",
       "      <td>中国</td>\n",
       "      <td>北京</td>\n",
       "      <td>东城</td>\n",
       "      <td>All</td>\n",
       "      <td>3</td>\n",
       "      <td>0</td>\n",
       "      <td>0</td>\n",
       "      <td>0</td>\n",
       "    </tr>\n",
       "    <tr>\n",
       "      <th>486</th>\n",
       "      <td>中国</td>\n",
       "      <td>北京</td>\n",
       "      <td>门头沟</td>\n",
       "      <td>All</td>\n",
       "      <td>2</td>\n",
       "      <td>0</td>\n",
       "      <td>0</td>\n",
       "      <td>0</td>\n",
       "    </tr>\n",
       "    <tr>\n",
       "      <th>488</th>\n",
       "      <td>中国</td>\n",
       "      <td>北京</td>\n",
       "      <td>房山</td>\n",
       "      <td>All</td>\n",
       "      <td>2</td>\n",
       "      <td>0</td>\n",
       "      <td>0</td>\n",
       "      <td>0</td>\n",
       "    </tr>\n",
       "    <tr>\n",
       "      <th>490</th>\n",
       "      <td>中国</td>\n",
       "      <td>北京</td>\n",
       "      <td>怀柔</td>\n",
       "      <td>All</td>\n",
       "      <td>1</td>\n",
       "      <td>0</td>\n",
       "      <td>0</td>\n",
       "      <td>0</td>\n",
       "    </tr>\n",
       "    <tr>\n",
       "      <th>492</th>\n",
       "      <td>中国</td>\n",
       "      <td>北京</td>\n",
       "      <td>地区待确认</td>\n",
       "      <td>All</td>\n",
       "      <td>0</td>\n",
       "      <td>0</td>\n",
       "      <td>1</td>\n",
       "      <td>5</td>\n",
       "    </tr>\n",
       "  </tbody>\n",
       "</table>\n",
       "</div>"
      ],
      "text/plain": [
       "    Country Province   City AllOrToday confirm suspect dead heal\n",
       "462      中国       北京               All     191       0    1    9\n",
       "464      中国       北京     海淀        All      41       0    0    0\n",
       "466      中国       北京     朝阳        All      35       0    0    0\n",
       "468      中国       北京     西城        All      22       0    0    0\n",
       "470      中国       北京     大兴        All      22       0    0    2\n",
       "472      中国       北京     丰台        All      16       0    0    0\n",
       "474      中国       北京     通州        All      13       0    0    0\n",
       "476      中国       北京     昌平        All      12       0    0    0\n",
       "478      中国       北京   外地来京        All      11       0    0    2\n",
       "480      中国       北京     顺义        All       6       0    0    0\n",
       "482      中国       北京    石景山        All       5       0    0    0\n",
       "484      中国       北京     东城        All       3       0    0    0\n",
       "486      中国       北京    门头沟        All       2       0    0    0\n",
       "488      中国       北京     房山        All       2       0    0    0\n",
       "490      中国       北京     怀柔        All       1       0    0    0\n",
       "492      中国       北京  地区待确认        All       0       0    1    5"
      ]
     },
     "execution_count": 122,
     "metadata": {},
     "output_type": "execute_result"
    }
   ],
   "source": [
    "df_area[(df_area['Province']=='北京') & (df_area['AllOrToday']=='All')]"
   ]
  },
  {
   "cell_type": "code",
   "execution_count": null,
   "metadata": {},
   "outputs": [],
   "source": []
  },
  {
   "cell_type": "code",
   "execution_count": null,
   "metadata": {},
   "outputs": [],
   "source": []
  },
  {
   "cell_type": "code",
   "execution_count": null,
   "metadata": {},
   "outputs": [],
   "source": []
  },
  {
   "cell_type": "markdown",
   "metadata": {},
   "source": [
    "# 患者同行数据\n",
    "两个来源：搜狗/人民日报"
   ]
  },
  {
   "cell_type": "markdown",
   "metadata": {},
   "source": [
    "搜狗\n",
    "https://sa.sogou.com/new-weball/page/sgs/epidemic/yyxw?type_page=yangshi&scene=2&clicktime=1580381964&enterid=1580381964&from=timeline&isappinstalled=0"
   ]
  },
  {
   "cell_type": "code",
   "execution_count": 170,
   "metadata": {},
   "outputs": [],
   "source": [
    "sogou_trips = pd.read_json('https://hhyfeed.sogoucdn.com/js/common/epidemic-search/main.js')\n",
    "sogou_trips.to_csv('data/trips/sogou_trips.csv')"
   ]
  },
  {
   "cell_type": "markdown",
   "metadata": {},
   "source": [
    "人民日报 http://2019ncov.nosugartech.com/search.html?t_date=&t_no=&t_area="
   ]
  },
  {
   "cell_type": "code",
   "execution_count": 171,
   "metadata": {},
   "outputs": [],
   "source": [
    "url_trip = 'http://2019ncov.nosugartech.com/data.json?'\n",
    "json_res = requests.get(url=url_trip).json()['data']\n",
    "nosugar_trips = pd.DataFrame.from_records(json_res)\n",
    "nosugar_trips.to_csv('data/trips/nosugar_trips.csv')"
   ]
  },
  {
   "cell_type": "code",
   "execution_count": 37,
   "metadata": {},
   "outputs": [],
   "source": []
  },
  {
   "cell_type": "code",
   "execution_count": null,
   "metadata": {},
   "outputs": [],
   "source": []
  }
 ],
 "metadata": {
  "kernelspec": {
   "display_name": "Python 3",
   "language": "python",
   "name": "python3"
  },
  "language_info": {
   "codemirror_mode": {
    "name": "ipython",
    "version": 3
   },
   "file_extension": ".py",
   "mimetype": "text/x-python",
   "name": "python",
   "nbconvert_exporter": "python",
   "pygments_lexer": "ipython3",
   "version": "3.7.5"
  }
 },
 "nbformat": 4,
 "nbformat_minor": 4
}
