{
 "cells": [
  {
   "cell_type": "markdown",
   "metadata": {},
   "source": [
    "# 病毒传播建模\n",
    "\n",
    "代码来源:https://mp.weixin.qq.com/s/ONT6xfLrtM_IeYmMatjCBg\n",
    "\n",
    "\n",
    "理论来源:https://doi.org/10.1038/s41467-017-02064-4"
   ]
  },
  {
   "cell_type": "code",
   "execution_count": null,
   "metadata": {},
   "outputs": [],
   "source": [
    "import numpy as np\n",
    "# initialize the population vector from the origin-destination flow matrix\n",
    "N_k = np.abs(np.diagonal(OD) + OD.sum(axis=0) - OD.sum(axis=1))\n",
    "locs_len = len(N_k)                 # number of locations\n",
    "SIR = np.zeros(shape=(locs_len, 3)) # make a numpy array with 3 columns for keeping track of the S, I, R groups\n",
    "SIR[:,0] = N_k                      # initialize the S group with the respective populations\n",
    "\n",
    "first_infections = np.where(SIR[:, 0]<=thresh, SIR[:, 0]//20, 0)   # for demo purposes, randomly introduce infections\n",
    "SIR[:, 0] = SIR[:, 0] - first_infections\n",
    "SIR[:, 1] = SIR[:, 1] + first_infections                           # move infections to the I group\n",
    "\n",
    "# row normalize the SIR matrix for keeping track of group proportions\n",
    "row_sums = SIR.sum(axis=1)\n",
    "SIR_n = SIR / row_sums[:, np.newaxis]\n",
    "\n",
    "# initialize parameters\n",
    "beta = 1.6\n",
    "gamma = 0.04\n",
    "public_trans = 0.5                                 # alpha\n",
    "R0 = beta/gamma\n",
    "beta_vec = np.random.gamma(1.6, 2, locs_len)\n",
    "gamma_vec = np.full(locs_len, gamma)\n",
    "public_trans_vec = np.full(locs_len, public_trans)\n",
    "\n",
    "# make copy of the SIR matrices \n",
    "SIR_sim = SIR.copy()\n",
    "SIR_nsim = SIR_n.copy()\n",
    "\n",
    "# run model\n",
    "print(SIR_sim.sum(axis=0).sum() == N_k.sum())\n",
    "from tqdm import tqdm_notebook\n",
    "infected_pop_norm = []\n",
    "susceptible_pop_norm = []\n",
    "recovered_pop_norm = []\n",
    "for time_step in tqdm_notebook(range(100)):\n",
    "    infected_mat = np.array([SIR_nsim[:,1],]*locs_len).transpose()\n",
    "    OD_infected = np.round(OD*infected_mat)\n",
    "    inflow_infected = OD_infected.sum(axis=0)\n",
    "    inflow_infected = np.round(inflow_infected*public_trans_vec)\n",
    "    print('total infected inflow: ', inflow_infected.sum())\n",
    "    new_infect = beta_vec*SIR_sim[:, 0]*inflow_infected/(N_k + OD.sum(axis=0))\n",
    "    new_recovered = gamma_vec*SIR_sim[:, 1]\n",
    "    new_infect = np.where(new_infect>SIR_sim[:, 0], SIR_sim[:, 0], new_infect)\n",
    "    SIR_sim[:, 0] = SIR_sim[:, 0] - new_infect\n",
    "    SIR_sim[:, 1] = SIR_sim[:, 1] + new_infect - new_recovered\n",
    "    SIR_sim[:, 2] = SIR_sim[:, 2] + new_recovered\n",
    "    SIR_sim = np.where(SIR_sim<0,0,SIR_sim)\n",
    "    # recompute the normalized SIR matrix\n",
    "    row_sums = SIR_sim.sum(axis=1)\n",
    "    SIR_nsim = SIR_sim / row_sums[:, np.newaxis]\n",
    "    S = SIR_sim[:,0].sum()/N_k.sum()\n",
    "    I = SIR_sim[:,1].sum()/N_k.sum()\n",
    "    R = SIR_sim[:,2].sum()/N_k.sum()\n",
    "    print(S, I, R, (S+I+R)*N_k.sum(), N_k.sum())\n",
    "    print('\\n')\n",
    "    infected_pop_norm.append(I)\n",
    "    susceptible_pop_norm.append(S)\n",
    "    recovered_pop_norm.append(R)"
   ]
  }
 ],
 "metadata": {
  "kernelspec": {
   "display_name": "Python 3",
   "language": "python",
   "name": "python3"
  },
  "language_info": {
   "codemirror_mode": {
    "name": "ipython",
    "version": 3
   },
   "file_extension": ".py",
   "mimetype": "text/x-python",
   "name": "python",
   "nbconvert_exporter": "python",
   "pygments_lexer": "ipython3",
   "version": "3.7.5"
  }
 },
 "nbformat": 4,
 "nbformat_minor": 4
}
